{
 "cells": [
  {
   "cell_type": "code",
   "execution_count": null,
   "id": "925a7f74-b540-49c6-9aa5-8c07519b7ab9",
   "metadata": {},
   "outputs": [],
   "source": [
    "import pandas as pd\n",
    "import numpy as np\n",
    "import matplotlib.pyplot as plt\n",
    "import seaborn as sns\n",
    "from sklearn.model_selection import train_test_split, RandomizedSearchCV\n",
    "from sklearn.ensemble import RandomForestRegressor\n",
    "from xgboost import XGBRegressor\n",
    "from lightgbm import LGBMRegressor\n",
    "from sklearn.metrics import mean_squared_error, r2_score, mean_absolute_error"
   ]
  },
  {
   "cell_type": "code",
   "execution_count": null,
   "id": "d87c02a5-6d9d-4261-a7e9-818be13fdabd",
   "metadata": {},
   "outputs": [],
   "source": []
  },
  {
   "cell_type": "code",
   "execution_count": null,
   "id": "b1ea0757-5918-43a4-ad6a-f866e31945e3",
   "metadata": {},
   "outputs": [],
   "source": [
    "# Cargar el dataset procesado\n",
    "df = pd.read_csv(r\"C:\\Users\\franc\\Desktop\\ML_IoT\\df_final_for_training.csv\", sep=',')\n",
    "df.shape"
   ]
  },
  {
   "cell_type": "code",
   "execution_count": null,
   "id": "84a61f73-d607-4ff1-ba5b-4cfd386127d2",
   "metadata": {},
   "outputs": [],
   "source": [
    "df.columns"
   ]
  },
  {
   "cell_type": "code",
   "execution_count": null,
   "id": "b6690a45-407d-4618-8afa-a42d6b52981f",
   "metadata": {},
   "outputs": [],
   "source": [
    "# Separar variables predictoras (X) y la variable objetivo (y)\n",
    "X = df.drop(columns=['SalePrice'])\n",
    "y = df['SalePrice']"
   ]
  },
  {
   "cell_type": "code",
   "execution_count": null,
   "id": "4c782a9b-9464-426c-9e81-be6366e36acd",
   "metadata": {},
   "outputs": [],
   "source": [
    "X_train, X_test, y_train, y_test = train_test_split(X ,y, test_size=0.2, random_state=42)"
   ]
  },
  {
   "cell_type": "code",
   "execution_count": null,
   "id": "17fad955-768f-46aa-be14-ffd04c113a0d",
   "metadata": {},
   "outputs": [],
   "source": [
    "X_test.columns"
   ]
  },
  {
   "cell_type": "markdown",
   "id": "7a1241fc-6d2c-4807-9d12-12f64858b66b",
   "metadata": {},
   "source": [
    "#### Función para entrenar modelos y evaluar rendimiento"
   ]
  },
  {
   "cell_type": "code",
   "execution_count": null,
   "id": "1de0b8de-2810-4b62-be6a-0211a85af8ac",
   "metadata": {},
   "outputs": [],
   "source": [
    "def train_and_evaluate(model, model_name):\n",
    "    model.fit(X_train,y_train )\n",
    "    y_pred = model.predict(X_test)\n",
    "    rmse = np.sqrt(mean_squared_error(y_test, y_pred))\n",
    "    r2 = r2_score(y_test, y_pred)\n",
    "    mae = mean_absolute_error(y_test, y_pred)\n",
    "    return{\n",
    "        'Modelo': model_name,\n",
    "        'RMSE': rmse,\n",
    "        'R2' : r2,\n",
    "        'MAE' : mae\n",
    "    }"
   ]
  },
  {
   "cell_type": "markdown",
   "id": "527b1787-dfc2-4e38-b0dc-6436e2cc7110",
   "metadata": {},
   "source": [
    "#### Inicializar modelos"
   ]
  },
  {
   "cell_type": "code",
   "execution_count": null,
   "id": "bc1d4b2a-7f74-44d7-b776-6a2caa56a993",
   "metadata": {},
   "outputs": [],
   "source": [
    "models = [\n",
    "    (RandomForestRegressor(n_estimators=100, random_state=42), \"Random Forest\"),\n",
    "    (XGBRegressor(n_estimators=100, random_state=42), \"XGBoost\"),\n",
    "    (LGBMRegressor(n_estimators=100, random_state=42), \"LightGBM\")\n",
    "]"
   ]
  },
  {
   "cell_type": "markdown",
   "id": "b3d8295d-1f51-4bc1-80f4-6ee18dafb0a8",
   "metadata": {},
   "source": [
    "### Evaluar cada modelo"
   ]
  },
  {
   "cell_type": "code",
   "execution_count": null,
   "id": "097526c5-4954-4f7c-98f7-c8f51538aeaa",
   "metadata": {},
   "outputs": [],
   "source": [
    "results=[]\n",
    "for model, name in models:\n",
    "    results.append(train_and_evaluate(model, name))\n",
    "\n",
    "# Calcular el Accuracy como el porcentaje de varianza explicada (R² en porcentaje)\n",
    "\n",
    "    \n",
    "results_df = pd.DataFrame(results)\n",
    "\n",
    "results_df[\"Accuracy (%)\"] = results_df[\"R2\"] * 100\n",
    "results_df\n"
   ]
  },
  {
   "cell_type": "markdown",
   "id": "005afde8-5098-45a4-8952-b57492b8e69d",
   "metadata": {},
   "source": [
    "#### Visualizar la comparación del rendimiento"
   ]
  },
  {
   "cell_type": "code",
   "execution_count": null,
   "id": "c36fd598-3fd6-4eb3-a3d0-614c5cad50d6",
   "metadata": {},
   "outputs": [],
   "source": [
    "# Visualizar comparación de rendimiento\n",
    "fig, axes = plt.subplots(1, 3, figsize=(18, 5))\n",
    "\n",
    "sns.barplot(x='Modelo', y='RMSE', data=results_df, palette='coolwarm', ax=axes[0])\n",
    "axes[0].set_title('Comparación de RMSE entre Modelos')\n",
    "axes[0].set_ylabel('RMSE')\n",
    "\n",
    "sns.barplot(x='Modelo', y='R2', data=results_df, palette='coolwarm', ax=axes[1])\n",
    "axes[1].set_title('Comparación de R² entre Modelos')\n",
    "axes[1].set_ylabel('R²')\n",
    "\n",
    "sns.barplot(x='Modelo', y='MAE', data=results_df, palette='coolwarm', ax=axes[2])\n",
    "axes[2].set_title('Comparación de MAE entre Modelos')\n",
    "axes[2].set_ylabel('MAE')\n",
    "\n",
    "plt.tight_layout()\n",
    "plt.show()"
   ]
  },
  {
   "cell_type": "markdown",
   "id": "bff1bbcf-21b8-4fe7-a073-f417e154468e",
   "metadata": {},
   "source": [
    " #### MODELO SELECCIONADO XGBoost\n",
    "\n",
    " Antes de ajustar hiperparametros consideramos añadir dos variables más que pueden aportar información real y mejorar el rendimiento del modelo.\n",
    "\n",
    "- TotRmsAbvGrd -> Todas las viviendas tienen habitaciones, esta variable ayuda a capturar el tamaño real de la casa.\n",
    "- KitchenQual -> Todas las viviendas tienen cocina, y su calidad afecta directamente el valor de venta."
   ]
  },
  {
   "cell_type": "code",
   "execution_count": null,
   "id": "3029c9d2-6261-4652-8669-c6a8dcb928d8",
   "metadata": {},
   "outputs": [],
   "source": [
    "# Cargar el dataset original con todas las variables\n",
    "df_full = pd.read_csv(r\"C:\\Users\\franc\\Desktop\\ML_IoT\\df_final.csv\", sep=',')\n",
    "\n",
    "# Variables que queremos mantener (las 9 originales + las 2 nuevas)\n",
    "selected_vars = [\n",
    "    'OverallQual', 'GrLivArea', 'TotalBsmtSF', '1stFlrSF', 'BsmtFinSF1',\n",
    "    '2ndFlrSF', 'GarageCars', 'YearBuilt', 'GarageArea', 'TotRmsAbvGrd', 'KitchenQual', 'SalePrice'\n",
    "]\n",
    "\n",
    "\n",
    "df_updated = df_full[selected_vars]\n",
    "df_updated.dtypes"
   ]
  },
  {
   "cell_type": "markdown",
   "id": "0a37215f-62ac-4674-bf9c-2e89e72c05e4",
   "metadata": {},
   "source": [
    "####  Identificar si hay variables categóricas para aplicar One-Hot Encoding"
   ]
  },
  {
   "cell_type": "code",
   "execution_count": null,
   "id": "be17a1e7-f695-4be0-ab69-ae805486b9db",
   "metadata": {},
   "outputs": [],
   "source": [
    "categorical_vars = ['KitchenQual']\n",
    "df_updated = pd.get_dummies(df_updated, columns=categorical_vars, drop_first=True)"
   ]
  },
  {
   "cell_type": "markdown",
   "id": "073b28fe-bdc9-4f43-a12d-9c912925795a",
   "metadata": {},
   "source": [
    "#### Separar variables predictoras y la variable objetivo "
   ]
  },
  {
   "cell_type": "code",
   "execution_count": null,
   "id": "a355c95c-08ac-4bca-99bb-d0acc8754609",
   "metadata": {},
   "outputs": [],
   "source": [
    "X_updated = df_updated.drop(columns=[\"SalePrice\"])\n",
    "y_updated = df_updated[\"SalePrice\"]"
   ]
  },
  {
   "cell_type": "code",
   "execution_count": null,
   "id": "1cf63e2d-59f2-4c37-a326-a92886d794ed",
   "metadata": {},
   "outputs": [],
   "source": [
    "X_updated.columns"
   ]
  },
  {
   "cell_type": "markdown",
   "id": "7d529725-29a5-42ab-849b-2025f89ffe8d",
   "metadata": {},
   "source": [
    "#### Dividir en conjunto de entrenamiento y prueba (80-20)"
   ]
  },
  {
   "cell_type": "code",
   "execution_count": null,
   "id": "c936a73f-fbee-4f12-b782-04f2656dc6b8",
   "metadata": {},
   "outputs": [],
   "source": [
    "X_train, X_test, y_train, y_test = train_test_split(X_updated, y_updated, test_size=0.2, random_state=42)"
   ]
  },
  {
   "cell_type": "markdown",
   "id": "f839c110-c83d-4db2-8d6c-a326a5f13005",
   "metadata": {},
   "source": [
    "#### Entrnamiento XGBoost con las nuevas variables"
   ]
  },
  {
   "cell_type": "code",
   "execution_count": null,
   "id": "4ee272e3-afd5-46fc-ac64-8a916e454556",
   "metadata": {},
   "outputs": [],
   "source": [
    "xgb_model_updated = XGBRegressor(n_estimators=100, random_state=42)\n",
    "xgb_model_updated.fit(X_train, y_train)"
   ]
  },
  {
   "cell_type": "markdown",
   "id": "31b684d2-605d-46dd-8e6f-93c92c670124",
   "metadata": {},
   "source": [
    "#### Predecir sobre el conjunto de prueba"
   ]
  },
  {
   "cell_type": "code",
   "execution_count": null,
   "id": "37905a63-b8e1-416e-be97-c3ffd87981af",
   "metadata": {},
   "outputs": [],
   "source": [
    "y_pred_updated = xgb_model_updated.predict(X_test)"
   ]
  },
  {
   "cell_type": "markdown",
   "id": "f073d825-0fae-4c5a-9bc6-66cedf98a890",
   "metadata": {},
   "source": [
    "#### Evaluar el modelo con las nuevas variables"
   ]
  },
  {
   "cell_type": "code",
   "execution_count": null,
   "id": "7d2841bf-bb91-44ca-aeb3-7430d7e20a6a",
   "metadata": {},
   "outputs": [],
   "source": [
    "rmse_updated = np.sqrt(mean_squared_error(y_test, y_pred_updated))\n",
    "r2_updated = r2_score(y_test, y_pred_updated)\n",
    "mae_updated = mean_absolute_error(y_test, y_pred_updated)\n",
    "\n",
    "results_updated = pd.DataFrame({\n",
    "    \"Modelo\": [\"XGBoost Mejorado\"],\n",
    "    \"RMSE\": [rmse_updated],\n",
    "    \"R2\": [r2_updated],\n",
    "    \"MAE\": [mae_updated]\n",
    "})\n",
    "\n",
    "results_updated[\"Accuracy (%)\"] = results_updated[\"R2\"] * 100\n",
    "\n",
    "results_updated "
   ]
  },
  {
   "cell_type": "markdown",
   "id": "2ea0b7ff-e9d1-4643-bac6-178164c84a18",
   "metadata": {},
   "source": [
    "#### Resultado:\n",
    "\n",
    "El rendimiento ha bajado:\n",
    "\n",
    "| Modelo               | RMSE ↓ | R² ↑  | MAE ↓  | Accuracy ↑ |\r\n",
    "|----------------------|--------|-------|--------|------------|\r\n",
    "| XGBoost Mejorado     | 30,208 | 0.8810| 20,121 | 88.10%     |\r\n",
    "| XGBoost              | 29,460 | 0.8868| 19,685 | 88.68%   \n",
    "\n",
    "Próximos pasos ajustar hiperparametros de el modelo XGBoost, que es el que mejores resultados a obtenido.  |"
   ]
  },
  {
   "cell_type": "code",
   "execution_count": null,
   "id": "132b45b7-2281-44e0-9ac1-97237ffea56d",
   "metadata": {},
   "outputs": [],
   "source": [
    "df_final_for_training = df.copy()\n",
    "\n",
    "# Separar variables predictoras (X) y la variable objetivo (y)\n",
    "X_train_final = df_final_for_training.drop(columns=[\"SalePrice\"])\n",
    "y_train_final = df_final_for_training[\"SalePrice\"]\n",
    "\n",
    "# Definir un espacio de búsqueda optimizado para evitar problemas de carga\n",
    "param_grid_reduced = {\n",
    "    'n_estimators': [100, 200],\n",
    "    'learning_rate': [0.05, 0.1],\n",
    "    'max_depth': [3, 5],\n",
    "    'subsample': [0.8, 1.0],\n",
    "    'colsample_bytree': [0.8, 1.0],\n",
    "    'gamma': [0, 0.1]\n",
    "}\n",
    "\n",
    "# Inicializar el modelo base XGBoost\n",
    "xgb_base = XGBRegressor(random_state=42)\n",
    "\n",
    "# Configurar la búsqueda aleatoria de hiperparámetros\n",
    "random_search_final = RandomizedSearchCV(\n",
    "    estimator=xgb_base,\n",
    "    param_distributions=param_grid_reduced,\n",
    "    n_iter=5,  \n",
    "    scoring='r2',\n",
    "    cv=3,  \n",
    "    verbose=1,\n",
    "    random_state=42,\n",
    "    n_jobs=-1  \n",
    ")\n",
    "\n",
    "# Entrenar la búsqueda aleatoria en el dataset correcto\n",
    "random_search_final.fit(X_train_final, y_train_final)\n",
    "\n",
    "# Obtener los mejores hiperparámetros\n",
    "best_params_final = random_search_final.best_params_\n",
    "best_score_final = random_search_final.best_score_\n",
    "\n",
    "print(\"Mejores parametros: \", best_params_final)\n",
    "print(\"Mejor puntuación final: \", best_score_final)"
   ]
  },
  {
   "cell_type": "markdown",
   "id": "465497d0-bea4-4ffe-a4b4-65d0e10cddbc",
   "metadata": {},
   "source": [
    "#### Resultado:\n",
    "\n",
    "El ajuste de hiperparametros empeora el rendimiento del modelo"
   ]
  },
  {
   "cell_type": "markdown",
   "id": "c2ebb664-94a6-471f-8356-60d2f2420e34",
   "metadata": {},
   "source": [
    "### Solo ajustes hiperparámetros clave"
   ]
  }
 ],
 "metadata": {
  "kernelspec": {
   "display_name": "Python 3 (ipykernel)",
   "language": "python",
   "name": "python3"
  },
  "language_info": {
   "codemirror_mode": {
    "name": "ipython",
    "version": 3
   },
   "file_extension": ".py",
   "mimetype": "text/x-python",
   "name": "python",
   "nbconvert_exporter": "python",
   "pygments_lexer": "ipython3",
   "version": "3.11.7"
  }
 },
 "nbformat": 4,
 "nbformat_minor": 5
}
