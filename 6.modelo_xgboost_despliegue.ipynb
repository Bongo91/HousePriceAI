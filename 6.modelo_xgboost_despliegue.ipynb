{
 "cells": [
  {
   "cell_type": "code",
   "execution_count": 18,
   "id": "ef4906d5-ab1d-455e-b6b0-28af426808cf",
   "metadata": {},
   "outputs": [],
   "source": [
    "import joblib\n",
    "import pandas as pd"
   ]
  },
  {
   "cell_type": "markdown",
   "id": "2bb092a7-6e1d-4a84-bbbc-a2e956febdc4",
   "metadata": {},
   "source": [
    "####  Cargar el modelo"
   ]
  },
  {
   "cell_type": "code",
   "execution_count": 21,
   "id": "7078b4c2-619e-4e53-9d36-6068fd8d92ed",
   "metadata": {},
   "outputs": [],
   "source": [
    "# Cargar el modelo entrenado\n",
    "model_filename = \"xgb_optimized_model.pkl\"\n",
    "xgb_loaded = joblib.load(model_filename)"
   ]
  },
  {
   "cell_type": "code",
   "execution_count": 23,
   "id": "5d4ffae8-4260-461b-8203-2752374197fb",
   "metadata": {},
   "outputs": [],
   "source": [
    "# Cargar nuevos datos (suponiendo que tienes un DataFrame con las mismas columnas usadas para entrenar)\n",
    "new_data = pd.read_csv(r\"C:\\Users\\franc\\Desktop\\ML_IoT\\Nuevos_datos_preparados.csv\", sep=',')"
   ]
  },
  {
   "cell_type": "code",
   "execution_count": 31,
   "id": "a5b29dd2-2ddd-40e2-aa69-698e83600a8f",
   "metadata": {},
   "outputs": [
    {
     "name": "stdout",
     "output_type": "stream",
     "text": [
      "Precio predicho de la vivienda: $131,110.14\n"
     ]
    }
   ],
   "source": [
    "# Extraer el ID para mantenerlo en la salida final\n",
    "df_test_ids = new_data[['Id']]\n",
    "\n",
    "# Seleccionar solo las columnas necesarias para el modelo (excluyendo 'Id')\n",
    "columns_needed = ['OverallQual', 'GrLivArea', 'TotalBsmtSF', '1stFlrSF',\n",
    "                  'BsmtFinSF1', '2ndFlrSF', 'GarageCars', 'YearBuilt', 'GarageArea']\n",
    "\n",
    "df_test_filtered = new_data[columns_needed]\n",
    "\n",
    "# Hacer predicciones\n",
    "predicted_price = xgb_loaded.predict(df_test_filtered)\n",
    "\n",
    "\n",
    "submission = pd.DataFrame({\n",
    "    \"Id\": df_test_ids[\"Id\"],\n",
    "    \"SalePrice\": predicted_price\n",
    "})\n",
    "\n",
    "# Guardar el archivo en formato CSV listo para envío\n",
    "submission.to_csv(\"submission.csv\", index=False)\n",
    "\n",
    "print(f\"Precio predicho de la vivienda: ${predicted_price[0]:,.2f}\")\n"
   ]
  },
  {
   "cell_type": "code",
   "execution_count": 33,
   "id": "9697aeb1-15b7-4ea3-87da-ae739826c226",
   "metadata": {},
   "outputs": [
    {
     "data": {
      "text/html": [
       "<div>\n",
       "<style scoped>\n",
       "    .dataframe tbody tr th:only-of-type {\n",
       "        vertical-align: middle;\n",
       "    }\n",
       "\n",
       "    .dataframe tbody tr th {\n",
       "        vertical-align: top;\n",
       "    }\n",
       "\n",
       "    .dataframe thead th {\n",
       "        text-align: right;\n",
       "    }\n",
       "</style>\n",
       "<table border=\"1\" class=\"dataframe\">\n",
       "  <thead>\n",
       "    <tr style=\"text-align: right;\">\n",
       "      <th></th>\n",
       "      <th>Id</th>\n",
       "      <th>SalePrice</th>\n",
       "    </tr>\n",
       "  </thead>\n",
       "  <tbody>\n",
       "    <tr>\n",
       "      <th>0</th>\n",
       "      <td>1461</td>\n",
       "      <td>131110.140625</td>\n",
       "    </tr>\n",
       "    <tr>\n",
       "      <th>1</th>\n",
       "      <td>1462</td>\n",
       "      <td>157928.484375</td>\n",
       "    </tr>\n",
       "    <tr>\n",
       "      <th>2</th>\n",
       "      <td>1463</td>\n",
       "      <td>174881.796875</td>\n",
       "    </tr>\n",
       "    <tr>\n",
       "      <th>3</th>\n",
       "      <td>1464</td>\n",
       "      <td>183308.515625</td>\n",
       "    </tr>\n",
       "    <tr>\n",
       "      <th>4</th>\n",
       "      <td>1465</td>\n",
       "      <td>204548.296875</td>\n",
       "    </tr>\n",
       "    <tr>\n",
       "      <th>...</th>\n",
       "      <td>...</td>\n",
       "      <td>...</td>\n",
       "    </tr>\n",
       "    <tr>\n",
       "      <th>1454</th>\n",
       "      <td>2915</td>\n",
       "      <td>73819.515625</td>\n",
       "    </tr>\n",
       "    <tr>\n",
       "      <th>1455</th>\n",
       "      <td>2916</td>\n",
       "      <td>87931.375000</td>\n",
       "    </tr>\n",
       "    <tr>\n",
       "      <th>1456</th>\n",
       "      <td>2917</td>\n",
       "      <td>153916.125000</td>\n",
       "    </tr>\n",
       "    <tr>\n",
       "      <th>1457</th>\n",
       "      <td>2918</td>\n",
       "      <td>110221.632812</td>\n",
       "    </tr>\n",
       "    <tr>\n",
       "      <th>1458</th>\n",
       "      <td>2919</td>\n",
       "      <td>217552.468750</td>\n",
       "    </tr>\n",
       "  </tbody>\n",
       "</table>\n",
       "<p>1459 rows × 2 columns</p>\n",
       "</div>"
      ],
      "text/plain": [
       "        Id      SalePrice\n",
       "0     1461  131110.140625\n",
       "1     1462  157928.484375\n",
       "2     1463  174881.796875\n",
       "3     1464  183308.515625\n",
       "4     1465  204548.296875\n",
       "...    ...            ...\n",
       "1454  2915   73819.515625\n",
       "1455  2916   87931.375000\n",
       "1456  2917  153916.125000\n",
       "1457  2918  110221.632812\n",
       "1458  2919  217552.468750\n",
       "\n",
       "[1459 rows x 2 columns]"
      ]
     },
     "execution_count": 33,
     "metadata": {},
     "output_type": "execute_result"
    }
   ],
   "source": [
    "submission"
   ]
  },
  {
   "cell_type": "code",
   "execution_count": null,
   "id": "4f264676-4cb1-409a-80d9-c55331c72d1c",
   "metadata": {},
   "outputs": [],
   "source": [
    "submission = submission.copy()\n",
    "df_submission = pd.read_csv(submission_path)\n",
    "\n",
    "# Cargar el archivo de respuestas reales (sample_submission)\n",
    "sample_submission_path = \"sample_submission.csv\"\n",
    "df_sample = pd.read_csv(sample_submission_path)\n",
    "\n",
    "# Unir ambos DataFrames en base a la columna 'Id'\n",
    "df_comparison = df_sample.merge(df_submission, on=\"Id\", suffixes=(\"_Real\", \"_Predicho\"))"
   ]
  },
  {
   "cell_type": "markdown",
   "id": "61d4b445-ba9d-4ed3-b3bb-0bcb55fa95fb",
   "metadata": {},
   "source": [
    "### Calcular el porcentaje de error en cada predicción**"
   ]
  },
  {
   "cell_type": "code",
   "execution_count": null,
   "id": "51999dc2-2d4e-41a6-99c1-20c2f7f091df",
   "metadata": {},
   "outputs": [],
   "source": [
    "\n",
    "df_comparison[\"Error (%)\"] = abs(df_comparison[\"SalePrice_Real\"] - df_comparison[\"SalePrice_Predicho\"]) / df_comparison[\"SalePrice_Real\"] * 100"
   ]
  },
  {
   "cell_type": "markdown",
   "id": "f25e97a5-73a2-4eb0-887f-3d2d07964ebe",
   "metadata": {},
   "source": [
    "### Calcular el error total acumulado"
   ]
  },
  {
   "cell_type": "code",
   "execution_count": null,
   "id": "2fd21eb9-bb93-4867-b393-fd21c0c999da",
   "metadata": {},
   "outputs": [],
   "source": [
    "\n",
    "error_total_acumulado = abs(df_comparison[\"SalePrice_Real\"] - df_comparison[\"SalePrice_Predicho\"]).sum()\n"
   ]
  },
  {
   "cell_type": "code",
   "execution_count": null,
   "id": "c1d7678f-3684-4ca7-91b2-93627cd98567",
   "metadata": {},
   "outputs": [],
   "source": [
    "error_total_acumulado"
   ]
  },
  {
   "cell_type": "code",
   "execution_count": null,
   "id": "c9cb10ca-2420-4447-b1f9-cde63a35c10a",
   "metadata": {},
   "outputs": [],
   "source": [
    "\n",
    "\n",
    "\n",
    "# Guardar el archivo comparativo\n",
    "df_comparison.to_csv(\"comparison_results.csv\", index=False)\n",
    "\n",
    "print(f\"Error total acumulado: ${error_total_acumulado:,.2f}\")\n",
    "print(\"Archivo de comparación guardado como 'comparison_results.csv'\")\n",
    "\n",
    "# Mostrar primeras filas del DataFrame comparativo\n",
    "df_comparison.head()\n"
   ]
  }
 ],
 "metadata": {
  "kernelspec": {
   "display_name": "Python 3 (ipykernel)",
   "language": "python",
   "name": "python3"
  },
  "language_info": {
   "codemirror_mode": {
    "name": "ipython",
    "version": 3
   },
   "file_extension": ".py",
   "mimetype": "text/x-python",
   "name": "python",
   "nbconvert_exporter": "python",
   "pygments_lexer": "ipython3",
   "version": "3.11.7"
  }
 },
 "nbformat": 4,
 "nbformat_minor": 5
}
