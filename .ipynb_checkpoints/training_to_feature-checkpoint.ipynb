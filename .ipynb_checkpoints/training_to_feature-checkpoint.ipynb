{
 "cells": [
  {
   "cell_type": "code",
   "execution_count": 1,
   "id": "a370d2b7-7f13-4c66-a7ef-feb6a5ed27b7",
   "metadata": {},
   "outputs": [],
   "source": [
    "import pandas as pd\n",
    "import numpy as np\n",
    "import seaborn as sns\n",
    "import matplotlib.pyplot as plt\n",
    "from sklearn.ensemble import RandomForestRegressor\n",
    "from sklearn.model_selection import train_test_split\n",
    "from sklearn.preprocessing import LabelEncoder"
   ]
  },
  {
   "cell_type": "code",
   "execution_count": 2,
   "id": "63367cf1-a812-4108-9b60-da525344fc43",
   "metadata": {},
   "outputs": [],
   "source": [
    "df_final  = pd.read_csv(r\"C:\\Users\\franc\\Desktop\\ML_IoT\\df_final.csv\", sep=',' )"
   ]
  },
  {
   "cell_type": "code",
   "execution_count": 3,
   "id": "f3c4d269-69aa-4b96-93d4-5ffdf4cf47b8",
   "metadata": {},
   "outputs": [
    {
     "data": {
      "text/plain": [
       "(1460, 79)"
      ]
     },
     "execution_count": 3,
     "metadata": {},
     "output_type": "execute_result"
    }
   ],
   "source": [
    "df_final.shape"
   ]
  },
  {
   "cell_type": "markdown",
   "id": "4fd8e7c4-62fd-4afc-81c2-741106cc4417",
   "metadata": {},
   "source": [
    "### separamos  las variables  predictoras de variable objetivo"
   ]
  },
  {
   "cell_type": "code",
   "execution_count": 5,
   "id": "f5d3935c-aa75-4361-b3dd-f83e8036076b",
   "metadata": {},
   "outputs": [],
   "source": [
    "## separamos  las variables  predictoras de variable objetivo\n",
    "\n",
    "X_original  = df_final.drop(columns=[\"SalePrice\"])\n",
    "y = df_final[\"SalePrice\"]"
   ]
  },
  {
   "cell_type": "markdown",
   "id": "fca2d440-ee9f-4551-8392-a132323d3c4b",
   "metadata": {},
   "source": [
    "#### Identificar columnas categóricas y codificación"
   ]
  },
  {
   "cell_type": "code",
   "execution_count": 7,
   "id": "021628c9-8fce-4e25-bcfb-50f9ac94d8aa",
   "metadata": {},
   "outputs": [],
   "source": [
    "categorical_cols = X_original.select_dtypes(include=[\"object\"]).columns\n",
    "\n",
    "# Aplicar Label Encoding a las variables categóricas\n",
    "label_encoders = {}\n",
    "for col in categorical_cols:\n",
    "    le = LabelEncoder()\n",
    "    X_original[col] = le.fit_transform(X_original[col])\n",
    "    label_encoders[col] = le"
   ]
  },
  {
   "cell_type": "markdown",
   "id": "467705dd-4baa-4f4f-a67d-994773dfd6ca",
   "metadata": {},
   "source": [
    "### Dividimos conjunto de entrenamiento y prueba"
   ]
  },
  {
   "cell_type": "code",
   "execution_count": 9,
   "id": "768a6ef2-b2c5-4afc-8171-d82eead54292",
   "metadata": {},
   "outputs": [],
   "source": [
    "random_seed = 99\n",
    "\n",
    "X_train, X_test, y_train, y_test = train_test_split(X_original, y, test_size=0.2, random_state=42)"
   ]
  },
  {
   "cell_type": "markdown",
   "id": "a37c3be4-56cf-4d5d-a548-aacc84776127",
   "metadata": {},
   "source": [
    "### Entrenamiento del modelo para determinar la importancia de las variables"
   ]
  },
  {
   "cell_type": "code",
   "execution_count": 11,
   "id": "0e44e838-2d3d-4631-a663-ffe21f7f4d44",
   "metadata": {},
   "outputs": [
    {
     "data": {
      "text/html": [
       "<style>#sk-container-id-1 {color: black;background-color: white;}#sk-container-id-1 pre{padding: 0;}#sk-container-id-1 div.sk-toggleable {background-color: white;}#sk-container-id-1 label.sk-toggleable__label {cursor: pointer;display: block;width: 100%;margin-bottom: 0;padding: 0.3em;box-sizing: border-box;text-align: center;}#sk-container-id-1 label.sk-toggleable__label-arrow:before {content: \"▸\";float: left;margin-right: 0.25em;color: #696969;}#sk-container-id-1 label.sk-toggleable__label-arrow:hover:before {color: black;}#sk-container-id-1 div.sk-estimator:hover label.sk-toggleable__label-arrow:before {color: black;}#sk-container-id-1 div.sk-toggleable__content {max-height: 0;max-width: 0;overflow: hidden;text-align: left;background-color: #f0f8ff;}#sk-container-id-1 div.sk-toggleable__content pre {margin: 0.2em;color: black;border-radius: 0.25em;background-color: #f0f8ff;}#sk-container-id-1 input.sk-toggleable__control:checked~div.sk-toggleable__content {max-height: 200px;max-width: 100%;overflow: auto;}#sk-container-id-1 input.sk-toggleable__control:checked~label.sk-toggleable__label-arrow:before {content: \"▾\";}#sk-container-id-1 div.sk-estimator input.sk-toggleable__control:checked~label.sk-toggleable__label {background-color: #d4ebff;}#sk-container-id-1 div.sk-label input.sk-toggleable__control:checked~label.sk-toggleable__label {background-color: #d4ebff;}#sk-container-id-1 input.sk-hidden--visually {border: 0;clip: rect(1px 1px 1px 1px);clip: rect(1px, 1px, 1px, 1px);height: 1px;margin: -1px;overflow: hidden;padding: 0;position: absolute;width: 1px;}#sk-container-id-1 div.sk-estimator {font-family: monospace;background-color: #f0f8ff;border: 1px dotted black;border-radius: 0.25em;box-sizing: border-box;margin-bottom: 0.5em;}#sk-container-id-1 div.sk-estimator:hover {background-color: #d4ebff;}#sk-container-id-1 div.sk-parallel-item::after {content: \"\";width: 100%;border-bottom: 1px solid gray;flex-grow: 1;}#sk-container-id-1 div.sk-label:hover label.sk-toggleable__label {background-color: #d4ebff;}#sk-container-id-1 div.sk-serial::before {content: \"\";position: absolute;border-left: 1px solid gray;box-sizing: border-box;top: 0;bottom: 0;left: 50%;z-index: 0;}#sk-container-id-1 div.sk-serial {display: flex;flex-direction: column;align-items: center;background-color: white;padding-right: 0.2em;padding-left: 0.2em;position: relative;}#sk-container-id-1 div.sk-item {position: relative;z-index: 1;}#sk-container-id-1 div.sk-parallel {display: flex;align-items: stretch;justify-content: center;background-color: white;position: relative;}#sk-container-id-1 div.sk-item::before, #sk-container-id-1 div.sk-parallel-item::before {content: \"\";position: absolute;border-left: 1px solid gray;box-sizing: border-box;top: 0;bottom: 0;left: 50%;z-index: -1;}#sk-container-id-1 div.sk-parallel-item {display: flex;flex-direction: column;z-index: 1;position: relative;background-color: white;}#sk-container-id-1 div.sk-parallel-item:first-child::after {align-self: flex-end;width: 50%;}#sk-container-id-1 div.sk-parallel-item:last-child::after {align-self: flex-start;width: 50%;}#sk-container-id-1 div.sk-parallel-item:only-child::after {width: 0;}#sk-container-id-1 div.sk-dashed-wrapped {border: 1px dashed gray;margin: 0 0.4em 0.5em 0.4em;box-sizing: border-box;padding-bottom: 0.4em;background-color: white;}#sk-container-id-1 div.sk-label label {font-family: monospace;font-weight: bold;display: inline-block;line-height: 1.2em;}#sk-container-id-1 div.sk-label-container {text-align: center;}#sk-container-id-1 div.sk-container {/* jupyter's `normalize.less` sets `[hidden] { display: none; }` but bootstrap.min.css set `[hidden] { display: none !important; }` so we also need the `!important` here to be able to override the default hidden behavior on the sphinx rendered scikit-learn.org. See: https://github.com/scikit-learn/scikit-learn/issues/21755 */display: inline-block !important;position: relative;}#sk-container-id-1 div.sk-text-repr-fallback {display: none;}</style><div id=\"sk-container-id-1\" class=\"sk-top-container\"><div class=\"sk-text-repr-fallback\"><pre>RandomForestRegressor(random_state=99)</pre><b>In a Jupyter environment, please rerun this cell to show the HTML representation or trust the notebook. <br />On GitHub, the HTML representation is unable to render, please try loading this page with nbviewer.org.</b></div><div class=\"sk-container\" hidden><div class=\"sk-item\"><div class=\"sk-estimator sk-toggleable\"><input class=\"sk-toggleable__control sk-hidden--visually\" id=\"sk-estimator-id-1\" type=\"checkbox\" checked><label for=\"sk-estimator-id-1\" class=\"sk-toggleable__label sk-toggleable__label-arrow\">RandomForestRegressor</label><div class=\"sk-toggleable__content\"><pre>RandomForestRegressor(random_state=99)</pre></div></div></div></div></div>"
      ],
      "text/plain": [
       "RandomForestRegressor(random_state=99)"
      ]
     },
     "execution_count": 11,
     "metadata": {},
     "output_type": "execute_result"
    }
   ],
   "source": [
    "rf_original = RandomForestRegressor(n_estimators=100, random_state=random_seed)\n",
    "\n",
    "rf_original.fit(X_train, y_train)"
   ]
  },
  {
   "cell_type": "markdown",
   "id": "0cfc78f1-abf8-4f78-bbaf-9fd673e10b46",
   "metadata": {},
   "source": [
    "### Medición de la importancia de las variables originales"
   ]
  },
  {
   "cell_type": "code",
   "execution_count": 13,
   "id": "5c003f9c-3025-4a92-9a79-8a40ac72e5e7",
   "metadata": {
    "scrolled": true
   },
   "outputs": [],
   "source": [
    "# Obtener la importancia de las variables originales\n",
    "feature_importances_original = pd.DataFrame({\n",
    "    \"Variable\": X_original.columns, \n",
    "    \"Importancia\": rf_original.feature_importances_\n",
    "})\n",
    "\n",
    "feature_importances_original = feature_importances_original.sort_values(by=\"Importancia\", ascending=False)\n",
    "feature_importances_original.to_excel(r\"C:\\Users\\franc\\Desktop\\ML_IoT\\importancia_variables.xlsx\", index=False)\n",
    "\n",
    "\n"
   ]
  },
  {
   "cell_type": "markdown",
   "id": "00b70379-0a99-45df-8cc1-380bfd5ce9da",
   "metadata": {},
   "source": [
    "**Análisis de la importancia de variables con Random Forest**\n",
    "\n",
    "Muchos autores y profesionales del sector recomiendan establecer un criterio de  Importancia < 0.0005 % para eliminar variables y redicir dimensionalidad.\n",
    "\n",
    "No obstante podemos desarrollar algún punto del siguiente estudio para aproximar el impacto real de las variables:\n",
    "\n",
    "\n",
    "+ 1. Visualización de la importancia acumulada\n",
    "\n",
    "     - Ordenamos las variables de mayor a menor importancia y calculamos la suma acumulada de la importancia.\n",
    "     - Elegimos un umbral cuando alcanzamos 95%-99% de la importancia total, descartando las de menor contribución.\n",
    "<br>\n",
    "\n",
    "+ 2. Prueba iterativa eliminando variables poco importantes\n",
    "\n",
    "     - Entrenamos el modelo con todas las variables y luego vamos eliminando las de baja importancia hasta que el rendimiento empiece a empeorar.\n",
    "<br>\n",
    "\n",
    "+ 3. Método basado en la media de importancia\n",
    "\n",
    "     - Calculamos la media de la importancia de todas las variables.\n",
    "     - Eliminamos aquellas por debajo de la media si no afectan significativamente el rendimiento del modelo.\n",
    "    "
   ]
  },
  {
   "cell_type": "markdown",
   "id": "97685006-169b-47b7-a33d-e0e922f59482",
   "metadata": {},
   "source": [
    "### 1.  Visualización de la importancia acumulada"
   ]
  },
  {
   "cell_type": "code",
   "execution_count": 16,
   "id": "21d2bbab-229e-4252-8734-380c4cd431d3",
   "metadata": {},
   "outputs": [
    {
     "data": {
      "image/png": "[encoded data removed]",
      "text/plain": [
       "<Figure size 1000x500 with 1 Axes>"
      ]
     },
     "metadata": {},
     "output_type": "display_data"
    }
   ],
   "source": [
    "# Calcular la importancia acumulada de las variables\n",
    "feature_importances_original[\"Importancia Acumulada\"] = feature_importances_original[\"Importancia\"].cumsum()\n",
    "\n",
    "# Visualizar la importancia acumulada\n",
    "plt.figure(figsize=(10, 5))\n",
    "sns.lineplot(x=range(len(feature_importances_original)), y=feature_importances_original[\"Importancia Acumulada\"], marker=\"o\", color=\"b\")\n",
    "plt.axhline(y=0.95, color=\"r\", linestyle=\"--\", label=\"95% Umbral\")\n",
    "plt.axhline(y=0.99, color=\"g\", linestyle=\"--\", label=\"99% Umbral\")\n",
    "plt.xlabel(\"Variables Ordenadas por Importancia\")\n",
    "plt.ylabel(\"Importancia Acumulada\")\n",
    "plt.title(\"Importancia Acumulada de las Variables en Random Forest\")\n",
    "plt.legend()\n",
    "plt.show()"
   ]
  },
  {
   "cell_type": "markdown",
   "id": "5546228a-2217-4f1d-8852-2afa3fb38bd5",
   "metadata": {},
   "source": [
    "Resultado para determinar el umbral de importancia basado en la acumulación de impacto en SalePrice.\n",
    "\n",
    "Teniendo en cuenta que despues de la codificación de las variables categóricas tenemos 305 filas.\n",
    "\n",
    "+ Resultados obtenidos:\n",
    "\n",
    "    - Para alcanzar el 95% de la importancia total, necesitamos 26 variables.\n",
    "    - Para alcanzar el 99% de la importancia total, necesitamos 48 variables.\n",
    "<br>\n",
    "\n",
    "+ Conclusión:\n",
    "\n",
    "    - Para un modelo más compacto y eficiente, podemos quedarnos solo con las 28 variables más importantes.\n",
    "    - Si queremos retener casi toda la información, podemos quedarnos con las 92 más relevantes y eliminar las menos importantes."
   ]
  },
  {
   "cell_type": "markdown",
   "id": "51b8b3bc-ed56-4a73-b727-22a744bce5d9",
   "metadata": {},
   "source": [
    "#### 2. Prueba iterativa eliminando variables poco importantes"
   ]
  },
  {
   "cell_type": "code",
   "execution_count": 19,
   "id": "3caa59e9-1131-4881-b511-3e0766dddc22",
   "metadata": {},
   "outputs": [],
   "source": [
    "mean_importance_original = feature_importances_original[\"Importancia\"].mean()\n",
    "\n",
    "selected_features_original = feature_importances_original[\n",
    "    feature_importances_original[\"Importancia\"] > mean_importance_original\n",
    "]\n",
    "\n",
    "selected_vars = selected_features_original[\"Variable\"].tolist()\n",
    "\n",
    "df_final_selected = df_final[selected_vars + [\"SalePrice\"]]\n"
   ]
  },
  {
   "cell_type": "code",
   "execution_count": 20,
   "id": "e75d74ae-11fa-4b6a-88a8-fcb8aa9aaa39",
   "metadata": {},
   "outputs": [
    {
     "name": "stderr",
     "output_type": "stream",
     "text": [
      "C:\\Users\\franc\\AppData\\Local\\Temp\\ipykernel_19772\\2024392135.py:3: FutureWarning: \n",
      "\n",
      "Passing `palette` without assigning `hue` is deprecated and will be removed in v0.14.0. Assign the `x` variable to `hue` and set `legend=False` for the same effect.\n",
      "\n",
      "  sns.barplot(x=selected_features_original[\"Variable\"], y=selected_features_original[\"Importancia\"], palette=\"coolwarm\")\n"
     ]
    },
    {
     "data": {
      "image/png": "[encoded data removed]",
      "text/plain": [
       "<Figure size 1000x500 with 1 Axes>"
      ]
     },
     "metadata": {},
     "output_type": "display_data"
    }
   ],
   "source": [
    "# Visualizar la importancia de las variables seleccionadas\n",
    "plt.figure(figsize=(10, 5))\n",
    "sns.barplot(x=selected_features_original[\"Variable\"], y=selected_features_original[\"Importancia\"], palette=\"coolwarm\")\n",
    "plt.xticks(rotation=90)\n",
    "plt.title(\"Importancia de Variables - Sin One-Hot Encoding\")\n",
    "plt.ylabel(\"Importancia\")\n",
    "plt.xlabel(\"Variable\")\n",
    "plt.show()"
   ]
  },
  {
   "cell_type": "markdown",
   "id": "3f25c407-f96d-47f5-a485-09783889bca2",
   "metadata": {},
   "source": [
    "- Tras la prueba iterativa para eliminar variables poco importantes, nos quedamos con las siguientes 9 variables:\n",
    "\n",
    "    - OverallQual\n",
    "    - GrLivArea\n",
    "    - TotalBsmtSF\n",
    "    - 1stFlrSF\n",
    "    - BsmtFinSF1\n",
    "    - 2ndFlrSF\n",
    "    - GarageCars\n",
    "    - YearBuilt\n",
    "    - GarageArea\n"
   ]
  },
  {
   "cell_type": "markdown",
   "id": "2122ebf5-52a9-47c2-b3e9-a8bc808e4991",
   "metadata": {},
   "source": [
    "### Aplicamos One-Hot Encoding solo a las variables categóricas dentro de esta selección y preparar el dataset final."
   ]
  },
  {
   "cell_type": "code",
   "execution_count": 61,
   "id": "84e1e446-ad7d-4352-bb7e-fd06d9e630f9",
   "metadata": {},
   "outputs": [
    {
     "data": {
      "text/html": [
       "<div>\n",
       "<style scoped>\n",
       "    .dataframe tbody tr th:only-of-type {\n",
       "        vertical-align: middle;\n",
       "    }\n",
       "\n",
       "    .dataframe tbody tr th {\n",
       "        vertical-align: top;\n",
       "    }\n",
       "\n",
       "    .dataframe thead th {\n",
       "        text-align: right;\n",
       "    }\n",
       "</style>\n",
       "<table border=\"1\" class=\"dataframe\">\n",
       "  <thead>\n",
       "    <tr style=\"text-align: right;\">\n",
       "      <th></th>\n",
       "      <th>SalePrice</th>\n",
       "      <th>OverallQual</th>\n",
       "      <th>GrLivArea</th>\n",
       "      <th>TotalBsmtSF</th>\n",
       "      <th>1stFlrSF</th>\n",
       "      <th>BsmtFinSF1</th>\n",
       "      <th>2ndFlrSF</th>\n",
       "      <th>GarageCars</th>\n",
       "      <th>YearBuilt</th>\n",
       "      <th>GarageArea</th>\n",
       "    </tr>\n",
       "  </thead>\n",
       "  <tbody>\n",
       "    <tr>\n",
       "      <th>0</th>\n",
       "      <td>208500</td>\n",
       "      <td>7</td>\n",
       "      <td>1710</td>\n",
       "      <td>856</td>\n",
       "      <td>856</td>\n",
       "      <td>706</td>\n",
       "      <td>854</td>\n",
       "      <td>2</td>\n",
       "      <td>2003</td>\n",
       "      <td>548</td>\n",
       "    </tr>\n",
       "    <tr>\n",
       "      <th>1</th>\n",
       "      <td>181500</td>\n",
       "      <td>6</td>\n",
       "      <td>1262</td>\n",
       "      <td>1262</td>\n",
       "      <td>1262</td>\n",
       "      <td>978</td>\n",
       "      <td>0</td>\n",
       "      <td>2</td>\n",
       "      <td>1976</td>\n",
       "      <td>460</td>\n",
       "    </tr>\n",
       "    <tr>\n",
       "      <th>2</th>\n",
       "      <td>223500</td>\n",
       "      <td>7</td>\n",
       "      <td>1786</td>\n",
       "      <td>920</td>\n",
       "      <td>920</td>\n",
       "      <td>486</td>\n",
       "      <td>866</td>\n",
       "      <td>2</td>\n",
       "      <td>2001</td>\n",
       "      <td>608</td>\n",
       "    </tr>\n",
       "    <tr>\n",
       "      <th>3</th>\n",
       "      <td>140000</td>\n",
       "      <td>7</td>\n",
       "      <td>1717</td>\n",
       "      <td>756</td>\n",
       "      <td>961</td>\n",
       "      <td>216</td>\n",
       "      <td>756</td>\n",
       "      <td>3</td>\n",
       "      <td>1915</td>\n",
       "      <td>642</td>\n",
       "    </tr>\n",
       "    <tr>\n",
       "      <th>4</th>\n",
       "      <td>250000</td>\n",
       "      <td>8</td>\n",
       "      <td>2198</td>\n",
       "      <td>1145</td>\n",
       "      <td>1145</td>\n",
       "      <td>655</td>\n",
       "      <td>1053</td>\n",
       "      <td>3</td>\n",
       "      <td>2000</td>\n",
       "      <td>836</td>\n",
       "    </tr>\n",
       "    <tr>\n",
       "      <th>...</th>\n",
       "      <td>...</td>\n",
       "      <td>...</td>\n",
       "      <td>...</td>\n",
       "      <td>...</td>\n",
       "      <td>...</td>\n",
       "      <td>...</td>\n",
       "      <td>...</td>\n",
       "      <td>...</td>\n",
       "      <td>...</td>\n",
       "      <td>...</td>\n",
       "    </tr>\n",
       "    <tr>\n",
       "      <th>1455</th>\n",
       "      <td>175000</td>\n",
       "      <td>6</td>\n",
       "      <td>1647</td>\n",
       "      <td>953</td>\n",
       "      <td>953</td>\n",
       "      <td>0</td>\n",
       "      <td>694</td>\n",
       "      <td>2</td>\n",
       "      <td>1999</td>\n",
       "      <td>460</td>\n",
       "    </tr>\n",
       "    <tr>\n",
       "      <th>1456</th>\n",
       "      <td>210000</td>\n",
       "      <td>6</td>\n",
       "      <td>2073</td>\n",
       "      <td>1542</td>\n",
       "      <td>2073</td>\n",
       "      <td>790</td>\n",
       "      <td>0</td>\n",
       "      <td>2</td>\n",
       "      <td>1978</td>\n",
       "      <td>500</td>\n",
       "    </tr>\n",
       "    <tr>\n",
       "      <th>1457</th>\n",
       "      <td>266500</td>\n",
       "      <td>7</td>\n",
       "      <td>2340</td>\n",
       "      <td>1152</td>\n",
       "      <td>1188</td>\n",
       "      <td>275</td>\n",
       "      <td>1152</td>\n",
       "      <td>1</td>\n",
       "      <td>1941</td>\n",
       "      <td>252</td>\n",
       "    </tr>\n",
       "    <tr>\n",
       "      <th>1458</th>\n",
       "      <td>142125</td>\n",
       "      <td>5</td>\n",
       "      <td>1078</td>\n",
       "      <td>1078</td>\n",
       "      <td>1078</td>\n",
       "      <td>49</td>\n",
       "      <td>0</td>\n",
       "      <td>1</td>\n",
       "      <td>1950</td>\n",
       "      <td>240</td>\n",
       "    </tr>\n",
       "    <tr>\n",
       "      <th>1459</th>\n",
       "      <td>147500</td>\n",
       "      <td>5</td>\n",
       "      <td>1256</td>\n",
       "      <td>1256</td>\n",
       "      <td>1256</td>\n",
       "      <td>830</td>\n",
       "      <td>0</td>\n",
       "      <td>1</td>\n",
       "      <td>1965</td>\n",
       "      <td>276</td>\n",
       "    </tr>\n",
       "  </tbody>\n",
       "</table>\n",
       "<p>1460 rows × 10 columns</p>\n",
       "</div>"
      ],
      "text/plain": [
       "      SalePrice  OverallQual  GrLivArea  TotalBsmtSF  1stFlrSF  BsmtFinSF1  \\\n",
       "0        208500            7       1710          856       856         706   \n",
       "1        181500            6       1262         1262      1262         978   \n",
       "2        223500            7       1786          920       920         486   \n",
       "3        140000            7       1717          756       961         216   \n",
       "4        250000            8       2198         1145      1145         655   \n",
       "...         ...          ...        ...          ...       ...         ...   \n",
       "1455     175000            6       1647          953       953           0   \n",
       "1456     210000            6       2073         1542      2073         790   \n",
       "1457     266500            7       2340         1152      1188         275   \n",
       "1458     142125            5       1078         1078      1078          49   \n",
       "1459     147500            5       1256         1256      1256         830   \n",
       "\n",
       "      2ndFlrSF  GarageCars  YearBuilt  GarageArea  \n",
       "0          854           2       2003         548  \n",
       "1            0           2       1976         460  \n",
       "2          866           2       2001         608  \n",
       "3          756           3       1915         642  \n",
       "4         1053           3       2000         836  \n",
       "...        ...         ...        ...         ...  \n",
       "1455       694           2       1999         460  \n",
       "1456         0           2       1978         500  \n",
       "1457      1152           1       1941         252  \n",
       "1458         0           1       1950         240  \n",
       "1459         0           1       1965         276  \n",
       "\n",
       "[1460 rows x 10 columns]"
      ]
     },
     "execution_count": 61,
     "metadata": {},
     "output_type": "execute_result"
    }
   ],
   "source": [
    "df_final_selected = df_final[['SalePrice'] + selected_features_original[\"Variable\"].tolist()]\n",
    "\n",
    "categorical_selected = df_final_selected.select_dtypes(include=[\"object\"]).columns\n",
    "\n",
    "df_final_encoded = pd.get_dummies(df_final_selected, columns=categorical_selected, drop_first=True)\n",
    "\n",
    "df_final_encoded "
   ]
  },
  {
   "cell_type": "code",
   "execution_count": 63,
   "id": "cde37f94-55d7-4fad-b344-7eaae35ed8d8",
   "metadata": {},
   "outputs": [],
   "source": [
    "df_final_encoded.to_csv(r\"C:\\Users\\franc\\Desktop\\ML_IoT\\df_final_for_training.csv\" ,sep=',', index=False )"
   ]
  }
 ],
 "metadata": {
  "kernelspec": {
   "display_name": "Python 3 (ipykernel)",
   "language": "python",
   "name": "python3"
  },
  "language_info": {
   "codemirror_mode": {
    "name": "ipython",
    "version": 3
   },
   "file_extension": ".py",
   "mimetype": "text/x-python",
   "name": "python",
   "nbconvert_exporter": "python",
   "pygments_lexer": "ipython3",
   "version": "3.11.7"
  }
 },
 "nbformat": 4,
 "nbformat_minor": 5
}
