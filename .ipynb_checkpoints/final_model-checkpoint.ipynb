{
 "cells": [
  {
   "cell_type": "code",
   "execution_count": 1,
   "id": "e311508a-c8df-4472-9ed7-82fba366128a",
   "metadata": {},
   "outputs": [],
   "source": [
    "import pandas as pd\n",
    "import numpy as np\n",
    "import matplotlib.pyplot as plt\n",
    "import seaborn as sns\n",
    "from sklearn.model_selection import train_test_split, RandomizedSearchCV, cross_val_score\n",
    "from sklearn.ensemble import RandomForestRegressor\n",
    "from xgboost import XGBRegressor\n",
    "from lightgbm import LGBMRegressor\n",
    "from sklearn.metrics import mean_squared_error, r2_score, mean_absolute_error\n"
   ]
  },
  {
   "cell_type": "code",
   "execution_count": 2,
   "id": "fb51e43a-a261-4586-b89f-0b8ac2272499",
   "metadata": {},
   "outputs": [],
   "source": [
    "file_path = r\"C:\\Users\\franc\\Desktop\\ML_IoT\\df_final_for_training.csv\"\n",
    "df_final_for_training = pd.read_csv(file_path)"
   ]
  },
  {
   "cell_type": "code",
   "execution_count": 15,
   "id": "82c6572c-89ae-4767-ab55-ee7def2d8ed6",
   "metadata": {},
   "outputs": [
    {
     "data": {
      "text/plain": [
       "Index(['SalePrice', 'OverallQual', 'GrLivArea', 'TotalBsmtSF', '1stFlrSF',\n",
       "       'BsmtFinSF1', '2ndFlrSF', 'GarageCars', 'YearBuilt', 'GarageArea'],\n",
       "      dtype='object')"
      ]
     },
     "execution_count": 15,
     "metadata": {},
     "output_type": "execute_result"
    }
   ],
   "source": [
    "df_final_for_training.columns"
   ]
  },
  {
   "cell_type": "markdown",
   "id": "c444d6d1-583c-435b-9cff-5af566bdbdcc",
   "metadata": {},
   "source": [
    "### Solo ajustes hiperparámetros clave"
   ]
  },
  {
   "cell_type": "code",
   "execution_count": 4,
   "id": "893b1cc0-2c9a-4121-86b5-d388c287067c",
   "metadata": {},
   "outputs": [
    {
     "data": {
      "text/html": [
       "<div>\n",
       "<style scoped>\n",
       "    .dataframe tbody tr th:only-of-type {\n",
       "        vertical-align: middle;\n",
       "    }\n",
       "\n",
       "    .dataframe tbody tr th {\n",
       "        vertical-align: top;\n",
       "    }\n",
       "\n",
       "    .dataframe thead th {\n",
       "        text-align: right;\n",
       "    }\n",
       "</style>\n",
       "<table border=\"1\" class=\"dataframe\">\n",
       "  <thead>\n",
       "    <tr style=\"text-align: right;\">\n",
       "      <th></th>\n",
       "      <th>Modelo</th>\n",
       "      <th>RMSE</th>\n",
       "      <th>R2</th>\n",
       "      <th>MAE</th>\n",
       "      <th>Accuracy (%)</th>\n",
       "    </tr>\n",
       "  </thead>\n",
       "  <tbody>\n",
       "    <tr>\n",
       "      <th>0</th>\n",
       "      <td>XGBoost Optimizado (n_estimators &amp; learning_rate)</td>\n",
       "      <td>28524.277586</td>\n",
       "      <td>0.893924</td>\n",
       "      <td>19039.135314</td>\n",
       "      <td>89.392441</td>\n",
       "    </tr>\n",
       "  </tbody>\n",
       "</table>\n",
       "</div>"
      ],
      "text/plain": [
       "                                              Modelo          RMSE        R2  \\\n",
       "0  XGBoost Optimizado (n_estimators & learning_rate)  28524.277586  0.893924   \n",
       "\n",
       "            MAE  Accuracy (%)  \n",
       "0  19039.135314     89.392441  "
      ]
     },
     "execution_count": 4,
     "metadata": {},
     "output_type": "execute_result"
    }
   ],
   "source": [
    "# Separar variables predictoras (X) y la variable objetivo (y)\n",
    "X = df_final_for_training.drop(columns=[\"SalePrice\"])\n",
    "y = df_final_for_training[\"SalePrice\"]\n",
    "\n",
    "# Dividir en conjunto de entrenamiento y prueba (80/20)\n",
    "X_train, X_test, y_train, y_test = train_test_split(X, y, test_size=0.2, random_state=42)\n",
    "\n",
    "# Definir los nuevos hiperparámetros clave ajustados\n",
    "optimized_params = {\n",
    "    'n_estimators': 300, \n",
    "    'learning_rate': 0.05,  \n",
    "}\n",
    "\n",
    "# Entrenar XGBoost con los nuevos hiperparámetros clave\n",
    "xgb_optimized = XGBRegressor(**optimized_params, random_state=42)\n",
    "xgb_optimized.fit(X_train, y_train)\n",
    "\n",
    "# Predecir sobre el conjunto de prueba\n",
    "y_pred_optimized = xgb_optimized.predict(X_test)\n",
    "\n",
    "# Evaluar el modelo con los nuevos hiperparámetros clave\n",
    "rmse_optimized = np.sqrt(mean_squared_error(y_test, y_pred_optimized))\n",
    "r2_optimized = r2_score(y_test, y_pred_optimized)\n",
    "mae_optimized = mean_absolute_error(y_test, y_pred_optimized)\n",
    "\n",
    "# Mostrar resultados comparativos\n",
    "results_optimized = pd.DataFrame({\n",
    "    \"Modelo\": [\"XGBoost Optimizado (n_estimators & learning_rate)\"],\n",
    "    \"RMSE\": [rmse_optimized],\n",
    "    \"R2\": [r2_optimized],\n",
    "    \"MAE\": [mae_optimized]\n",
    "})\n",
    "\n",
    "results_optimized[\"Accuracy (%)\"] = results_optimized[\"R2\"] * 100\n",
    "results_optimized"
   ]
  },
  {
   "cell_type": "markdown",
   "id": "ff53ee14-0117-4c68-9280-1cfb0e16977e",
   "metadata": {},
   "source": [
    "#### Resultado:\n",
    " \n",
    "- Mejoramos el rendimiento del modelo hasta un 89.4%"
   ]
  },
  {
   "cell_type": "markdown",
   "id": "5af10aaf-e086-4185-9ac9-9fa146561824",
   "metadata": {},
   "source": [
    "#### Predecir sobre el conjunto de prueba"
   ]
  },
  {
   "cell_type": "code",
   "execution_count": 7,
   "id": "022a3f99-f8af-41f1-903c-87cbafc52c79",
   "metadata": {},
   "outputs": [
    {
     "data": {
      "image/png": "[encoded data removed]",
      "text/plain": [
       "<Figure size 800x500 with 1 Axes>"
      ]
     },
     "metadata": {},
     "output_type": "display_data"
    },
    {
     "data": {
      "text/html": [
       "<div>\n",
       "<style scoped>\n",
       "    .dataframe tbody tr th:only-of-type {\n",
       "        vertical-align: middle;\n",
       "    }\n",
       "\n",
       "    .dataframe tbody tr th {\n",
       "        vertical-align: top;\n",
       "    }\n",
       "\n",
       "    .dataframe thead th {\n",
       "        text-align: right;\n",
       "    }\n",
       "</style>\n",
       "<table border=\"1\" class=\"dataframe\">\n",
       "  <thead>\n",
       "    <tr style=\"text-align: right;\">\n",
       "      <th></th>\n",
       "      <th>Métrica</th>\n",
       "      <th>Valor</th>\n",
       "    </tr>\n",
       "  </thead>\n",
       "  <tbody>\n",
       "    <tr>\n",
       "      <th>0</th>\n",
       "      <td>RMSE (Test)</td>\n",
       "      <td>28524.277586</td>\n",
       "    </tr>\n",
       "    <tr>\n",
       "      <th>1</th>\n",
       "      <td>R² (Test)</td>\n",
       "      <td>0.893924</td>\n",
       "    </tr>\n",
       "    <tr>\n",
       "      <th>2</th>\n",
       "      <td>MAE (Test)</td>\n",
       "      <td>19039.135314</td>\n",
       "    </tr>\n",
       "    <tr>\n",
       "      <th>3</th>\n",
       "      <td>R2 Cross-Validation Promedio</td>\n",
       "      <td>0.817376</td>\n",
       "    </tr>\n",
       "  </tbody>\n",
       "</table>\n",
       "</div>"
      ],
      "text/plain": [
       "                        Métrica         Valor\n",
       "0                   RMSE (Test)  28524.277586\n",
       "1                     R² (Test)      0.893924\n",
       "2                    MAE (Test)  19039.135314\n",
       "3  R2 Cross-Validation Promedio      0.817376"
      ]
     },
     "execution_count": 7,
     "metadata": {},
     "output_type": "execute_result"
    }
   ],
   "source": [
    "\n",
    "y_pred_optimized = xgb_optimized.predict(X_test)\n",
    "\n",
    "# Validación con conjunto de prueba\n",
    "test_rmse = np.sqrt(mean_squared_error(y_test, y_pred_optimized))\n",
    "test_r2 = r2_score(y_test, y_pred_optimized)\n",
    "test_mae = mean_absolute_error(y_test, y_pred_optimized)\n",
    "\n",
    "# Validación cruzada (5 folds)\n",
    "cv_scores = cross_val_score(xgb_optimized, X_train, y_train, cv=5, scoring='r2')\n",
    "\n",
    "# Análisis de residuos\n",
    "residuals = y_test - y_pred_optimized\n",
    "\n",
    "# Graficar distribución de residuos\n",
    "plt.figure(figsize=(8,5))\n",
    "plt.hist(residuals, bins=30, edgecolor=\"black\")\n",
    "plt.xlabel(\"Residuos\")\n",
    "plt.ylabel(\"Frecuencia\")\n",
    "plt.title(\"Distribución de Residuos del Modelo Optimizado\")\n",
    "plt.grid(True)\n",
    "plt.show()\n",
    "\n",
    "# Guardar resultados en un DataFrame\n",
    "validation_results = pd.DataFrame({\n",
    "    \"Métrica\": [\"RMSE (Test)\", \"R² (Test)\", \"MAE (Test)\", \"R2 Cross-Validation Promedio\"],\n",
    "    \"Valor\": [test_rmse, test_r2, test_mae, np.mean(cv_scores)]\n",
    "})\n",
    "\n",
    "validation_results"
   ]
  },
  {
   "cell_type": "markdown",
   "id": "a1aeb12c-ba18-4e2e-9f37-e4bb8852e8d7",
   "metadata": {},
   "source": [
    "### guardar el modelo y la documentación"
   ]
  },
  {
   "cell_type": "code",
   "execution_count": null,
   "id": "a821d203-aecb-4e28-bee0-29a12c61c420",
   "metadata": {},
   "outputs": [],
   "source": [
    "import joblib\n",
    "import json\n",
    "\n",
    "# Guardar el modelo en un archivo .pkl\n",
    "model_filename = \"xgb_optimized_model.pkl\"\n",
    "joblib.dump(xgb_optimized, model_filename)\n",
    "\n",
    "# Crear documentación del modelo\n",
    "model_info = {\n",
    "    \"Descripción\": \"Modelo XGBoost optimizado para predicción de precios de viviendas\",\n",
    "    \"Variables Utilizadas\": list(X.columns),\n",
    "    \"Rendimiento (Test)\": {\n",
    "        \"RMSE\": 28524.277586,\n",
    "        \"R²\": 0.893924,\n",
    "        \"MAE\": 19039.135314\n",
    "    },\n",
    "    \"Instrucciones\": \"Para usar este modelo, cargarlo con joblib.load('xgb_optimized_model.pkl') y usar .predict(X) sobre nuevos datos.\"\n",
    "}\n",
    "\n",
    "# Guardar la documentación en un archivo JSON\n",
    "doc_filename = \"xgb_model_info.json\"\n",
    "with open(doc_filename, \"w\") as f:\n",
    "    json.dump(model_info, f, indent=4)\n",
    "\n",
    "print(f\"Modelo guardado como {model_filename}\")\n",
    "print(f\"Documentación guardada como {doc_filename}\")\n"
   ]
  }
 ],
 "metadata": {
  "kernelspec": {
   "display_name": "Python 3 (ipykernel)",
   "language": "python",
   "name": "python3"
  },
  "language_info": {
   "codemirror_mode": {
    "name": "ipython",
    "version": 3
   },
   "file_extension": ".py",
   "mimetype": "text/x-python",
   "name": "python",
   "nbconvert_exporter": "python",
   "pygments_lexer": "ipython3",
   "version": "3.11.7"
  }
 },
 "nbformat": 4,
 "nbformat_minor": 5
}
