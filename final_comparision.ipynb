{
 "cells": [
  {
   "cell_type": "code",
   "execution_count": 1,
   "id": "94e74316-606a-4823-93a9-abefa5ddc817",
   "metadata": {},
   "outputs": [],
   "source": [
    "import pandas as pd\n"
   ]
  },
  {
   "cell_type": "markdown",
   "id": "e1a73fb7-e99f-4bec-9eff-f9163856af21",
   "metadata": {},
   "source": [
    "# Cargar el archivo con las predicciones generadas"
   ]
  },
  {
   "cell_type": "code",
   "execution_count": 3,
   "id": "03b2648f-aae3-4d1b-a0dc-64b586136e7d",
   "metadata": {},
   "outputs": [],
   "source": [
    "submission_path = \"submission.csv\"\n",
    "df_submission = pd.read_csv(submission_path)\n"
   ]
  },
  {
   "cell_type": "markdown",
   "id": "1273ee9a-9962-4038-b004-45ee47c9434c",
   "metadata": {},
   "source": [
    "# Cargar el archivo de respuestas reales (sample_submission)"
   ]
  },
  {
   "cell_type": "code",
   "execution_count": 5,
   "id": "7b870f26-fec7-409a-b1c4-844bff95a572",
   "metadata": {},
   "outputs": [],
   "source": [
    "sample_submission_path = r\"C:\\Users\\franc\\Desktop\\ML_IoT\\sample_submission.csv\"\n",
    "df_sample = pd.read_csv(sample_submission_path)\n",
    "\n",
    "df_comparison = df_sample.merge(df_submission, on=\"Id\", suffixes=(\"_Real\", \"_Predicho\"))"
   ]
  },
  {
   "cell_type": "markdown",
   "id": "39b277df-4aac-4411-b968-3093e35da4ea",
   "metadata": {},
   "source": [
    "### Calcular el porcentaje de error en cada predicción**"
   ]
  },
  {
   "cell_type": "code",
   "execution_count": 7,
   "id": "16b0793f-5f66-4b1a-92e3-d6186ef12480",
   "metadata": {},
   "outputs": [],
   "source": [
    "df_comparison[\"Error (%)\"] = abs(df_comparison[\"SalePrice_Real\"] - df_comparison[\"SalePrice_Predicho\"]) / df_comparison[\"SalePrice_Real\"] * 100"
   ]
  },
  {
   "cell_type": "markdown",
   "id": "b169529b-9774-4085-a23d-2b8c4434231d",
   "metadata": {},
   "source": [
    "### Calcular el error total acumulado**"
   ]
  },
  {
   "cell_type": "code",
   "execution_count": 9,
   "id": "840fb785-63e8-4b99-825f-0a8d7a1066d4",
   "metadata": {},
   "outputs": [],
   "source": [
    "error_total_acumulado = abs(df_comparison[\"SalePrice_Real\"] - df_comparison[\"SalePrice_Predicho\"]).sum()"
   ]
  },
  {
   "cell_type": "code",
   "execution_count": 10,
   "id": "a9f3e889-6b57-4a29-ab21-dab1cfb8e2b7",
   "metadata": {},
   "outputs": [],
   "source": [
    "# Guardar el archivo comparativo\n",
    "df_comparison.to_csv(r\"C:\\Users\\franc\\Desktop\\ML_IoT\\comparison_results.csv\", index=False)\n"
   ]
  },
  {
   "cell_type": "code",
   "execution_count": 11,
   "id": "dbc55936-b177-4c30-81e2-84d650a67d4f",
   "metadata": {},
   "outputs": [
    {
     "name": "stdout",
     "output_type": "stream",
     "text": [
      "Error total acumulado: $80,214,163.26\n",
      "Archivo de comparación guardado como 'comparison_results.csv'\n"
     ]
    }
   ],
   "source": [
    "print(f\"Error total acumulado: ${error_total_acumulado:,.2f}\")\n",
    "print(\"Archivo de comparación guardado como 'comparison_results.csv'\")\n",
    "\n"
   ]
  },
  {
   "cell_type": "code",
   "execution_count": 21,
   "id": "7c06a1c3-e73b-4c21-9efc-fd047c1eba3a",
   "metadata": {},
   "outputs": [
    {
     "data": {
      "text/html": [
       "<div>\n",
       "<style scoped>\n",
       "    .dataframe tbody tr th:only-of-type {\n",
       "        vertical-align: middle;\n",
       "    }\n",
       "\n",
       "    .dataframe tbody tr th {\n",
       "        vertical-align: top;\n",
       "    }\n",
       "\n",
       "    .dataframe thead th {\n",
       "        text-align: right;\n",
       "    }\n",
       "</style>\n",
       "<table border=\"1\" class=\"dataframe\">\n",
       "  <thead>\n",
       "    <tr style=\"text-align: right;\">\n",
       "      <th></th>\n",
       "      <th>Id</th>\n",
       "      <th>SalePrice_Real</th>\n",
       "      <th>SalePrice_Predicho</th>\n",
       "      <th>Error (%)</th>\n",
       "    </tr>\n",
       "  </thead>\n",
       "  <tbody>\n",
       "    <tr>\n",
       "      <th>0</th>\n",
       "      <td>1461</td>\n",
       "      <td>169277.052498</td>\n",
       "      <td>131110.140</td>\n",
       "      <td>22.547009</td>\n",
       "    </tr>\n",
       "    <tr>\n",
       "      <th>1</th>\n",
       "      <td>1462</td>\n",
       "      <td>187758.393989</td>\n",
       "      <td>157928.480</td>\n",
       "      <td>15.887393</td>\n",
       "    </tr>\n",
       "    <tr>\n",
       "      <th>2</th>\n",
       "      <td>1463</td>\n",
       "      <td>183583.683570</td>\n",
       "      <td>174881.800</td>\n",
       "      <td>4.740009</td>\n",
       "    </tr>\n",
       "    <tr>\n",
       "      <th>3</th>\n",
       "      <td>1464</td>\n",
       "      <td>179317.477511</td>\n",
       "      <td>183308.520</td>\n",
       "      <td>2.225685</td>\n",
       "    </tr>\n",
       "    <tr>\n",
       "      <th>4</th>\n",
       "      <td>1465</td>\n",
       "      <td>150730.079977</td>\n",
       "      <td>204548.300</td>\n",
       "      <td>35.705030</td>\n",
       "    </tr>\n",
       "    <tr>\n",
       "      <th>...</th>\n",
       "      <td>...</td>\n",
       "      <td>...</td>\n",
       "      <td>...</td>\n",
       "      <td>...</td>\n",
       "    </tr>\n",
       "    <tr>\n",
       "      <th>1454</th>\n",
       "      <td>2915</td>\n",
       "      <td>167081.220949</td>\n",
       "      <td>73819.516</td>\n",
       "      <td>55.818185</td>\n",
       "    </tr>\n",
       "    <tr>\n",
       "      <th>1455</th>\n",
       "      <td>2916</td>\n",
       "      <td>164788.778231</td>\n",
       "      <td>87931.375</td>\n",
       "      <td>46.639950</td>\n",
       "    </tr>\n",
       "    <tr>\n",
       "      <th>1456</th>\n",
       "      <td>2917</td>\n",
       "      <td>219222.423400</td>\n",
       "      <td>153916.120</td>\n",
       "      <td>29.789974</td>\n",
       "    </tr>\n",
       "    <tr>\n",
       "      <th>1457</th>\n",
       "      <td>2918</td>\n",
       "      <td>184924.279659</td>\n",
       "      <td>110221.630</td>\n",
       "      <td>40.396345</td>\n",
       "    </tr>\n",
       "    <tr>\n",
       "      <th>1458</th>\n",
       "      <td>2919</td>\n",
       "      <td>187741.866657</td>\n",
       "      <td>217552.470</td>\n",
       "      <td>15.878506</td>\n",
       "    </tr>\n",
       "  </tbody>\n",
       "</table>\n",
       "<p>1459 rows × 4 columns</p>\n",
       "</div>"
      ],
      "text/plain": [
       "        Id  SalePrice_Real  SalePrice_Predicho  Error (%)\n",
       "0     1461   169277.052498          131110.140  22.547009\n",
       "1     1462   187758.393989          157928.480  15.887393\n",
       "2     1463   183583.683570          174881.800   4.740009\n",
       "3     1464   179317.477511          183308.520   2.225685\n",
       "4     1465   150730.079977          204548.300  35.705030\n",
       "...    ...             ...                 ...        ...\n",
       "1454  2915   167081.220949           73819.516  55.818185\n",
       "1455  2916   164788.778231           87931.375  46.639950\n",
       "1456  2917   219222.423400          153916.120  29.789974\n",
       "1457  2918   184924.279659          110221.630  40.396345\n",
       "1458  2919   187741.866657          217552.470  15.878506\n",
       "\n",
       "[1459 rows x 4 columns]"
      ]
     },
     "execution_count": 21,
     "metadata": {},
     "output_type": "execute_result"
    }
   ],
   "source": [
    "df_comparison"
   ]
  }
 ],
 "metadata": {
  "kernelspec": {
   "display_name": "Python 3 (ipykernel)",
   "language": "python",
   "name": "python3"
  },
  "language_info": {
   "codemirror_mode": {
    "name": "ipython",
    "version": 3
   },
   "file_extension": ".py",
   "mimetype": "text/x-python",
   "name": "python",
   "nbconvert_exporter": "python",
   "pygments_lexer": "ipython3",
   "version": "3.11.7"
  }
 },
 "nbformat": 4,
 "nbformat_minor": 5
}
